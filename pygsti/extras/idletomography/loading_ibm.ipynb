{
 "cells": [
  {
   "cell_type": "code",
   "execution_count": 3,
   "metadata": {},
   "outputs": [
    {
     "name": "stdout",
     "output_type": "stream",
     "text": [
      "-- Std Practice:  Iter 1 of 1  (CPTPLND) --: \n",
      "  --- Iterative GST: [##################################################] 100.0%  56 circuits ---\n"
     ]
    }
   ],
   "source": [
    "import pygsti\n",
    "from pygsti.modelpacks import smq1Q_XY\n",
    "from pygsti.data import simulate_data\n",
    "from pygsti.protocols import StandardGST, ProtocolData\n",
    "\n",
    "target_model = smq1Q_XY.target_model('full TP')\n",
    "exp_design = smq1Q_XY.create_gst_experiment_design(1)\n",
    "data_set = simulate_data(target_model,exp_design.all_circuits_needing_data, num_samples=100)\n",
    "pdata = ProtocolData(exp_design, data_set)\n",
    "protocol = StandardGST(['CPTPLND'], target_model=target_model)\n",
    "results = protocol.run(pdata)"
   ]
  },
  {
   "cell_type": "code",
   "execution_count": 4,
   "metadata": {},
   "outputs": [
    {
     "name": "stdout",
     "output_type": "stream",
     "text": [
      "----------------------------------------------------------\n",
      "----------- pyGSTi ModelEstimateResults Object -----------\n",
      "----------------------------------------------------------\n",
      "\n",
      "How to access my contents:\n",
      "\n",
      " .dataset    -- the DataSet used to generate these results\n",
      "\n",
      " .circuit_lists   -- a dict of Circuit lists w/keys:\n",
      " ---------------------------------------------------------\n",
      "  iteration\n",
      "  prep fiducials\n",
      "  meas fiducials\n",
      "  germs\n",
      "  final\n",
      "\n",
      " .estimates   -- a dictionary of Estimate objects:\n",
      " ---------------------------------------------------------\n",
      "  CPTPLND\n",
      "\n",
      "\n"
     ]
    }
   ],
   "source": [
    "print(results)"
   ]
  },
  {
   "cell_type": "code",
   "execution_count": 5,
   "metadata": {},
   "outputs": [
    {
     "name": "stdout",
     "output_type": "stream",
     "text": [
      "----------------------------------------------------------\n",
      "---------------- pyGSTi Estimate Object ------------------\n",
      "----------------------------------------------------------\n",
      "\n",
      "How to access my contents:\n",
      "\n",
      " .models   -- a dictionary of Model objects w/keys:\n",
      " ---------------------------------------------------------\n",
      "  target\n",
      "  seed\n",
      "  iteration 0 estimate\n",
      "  final iteration estimate\n",
      "  stdgaugeopt\n",
      "\n",
      " .goparameters   -- a dictionary of gauge-optimization parameter dictionaries:\n",
      " ---------------------------------------------------------\n",
      "  stdgaugeopt\n",
      "\n",
      "\n"
     ]
    }
   ],
   "source": [
    "print(results.estimates['CPTPLND'])"
   ]
  },
  {
   "cell_type": "code",
   "execution_count": 6,
   "metadata": {},
   "outputs": [
    {
     "name": "stdout",
     "output_type": "stream",
     "text": [
      "rho0 = TPState with dimension 4\n",
      " 0.71   0 0.01 0.71\n",
      "\n",
      "\n",
      "Mdefault = TPPOVM with effect vectors:\n",
      "0: FullPOVMEffect with dimension 4\n",
      " 0.71 0.02-0.01 0.71\n",
      "\n",
      "1: ComplementPOVMEffect with dimension 4\n",
      " 0.71-0.02 0.01-0.71\n",
      "\n",
      "\n",
      "\n",
      "Gxpi2:0 = \n",
      "FullTPOp with shape (4, 4)\n",
      " 1.00   0   0   0\n",
      "   0 1.00   0   0\n",
      "   0   0   0-1.00\n",
      "   0   0 1.00   0\n",
      "\n",
      "\n",
      "Gypi2:0 = \n",
      "FullTPOp with shape (4, 4)\n",
      " 1.00   0   0   0\n",
      "   0   0   0 1.00\n",
      "   0   0 1.00   0\n",
      "   0-1.00   0   0\n",
      "\n",
      "\n",
      "\n",
      "\n"
     ]
    }
   ],
   "source": [
    "print(results.estimates['CPTPLND'].models[\"stdgaugeopt\"])"
   ]
  },
  {
   "cell_type": "code",
   "execution_count": null,
   "metadata": {},
   "outputs": [],
   "source": [
    "results_model = results.estimates['CPTPLND'].models[\"stdgaugeopt\"]"
   ]
  }
 ],
 "metadata": {
  "kernelspec": {
   "display_name": "gtep312",
   "language": "python",
   "name": "python3"
  },
  "language_info": {
   "codemirror_mode": {
    "name": "ipython",
    "version": 3
   },
   "file_extension": ".py",
   "mimetype": "text/x-python",
   "name": "python",
   "nbconvert_exporter": "python",
   "pygments_lexer": "ipython3",
   "version": "3.12.7"
  }
 },
 "nbformat": 4,
 "nbformat_minor": 2
}
