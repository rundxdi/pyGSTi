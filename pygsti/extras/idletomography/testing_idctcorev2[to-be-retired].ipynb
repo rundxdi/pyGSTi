{
 "cells": [
  {
   "cell_type": "code",
   "execution_count": 24,
   "metadata": {},
   "outputs": [],
   "source": [
    "from icecream import ic\n",
    "from ordered_set import OrderedSet\n",
    "from itertools import product\n",
    "import itertools as _itertools\n",
    "import stim\n",
    "from idtcorev2 import jacobian_coefficient_calc"
   ]
  },
  {
   "cell_type": "markdown",
   "metadata": {},
   "source": [
    "# Update important parameters here!\n",
    "VVVVVVVVVVVVVVVVVVVVVVVVVVVVVVVVVVV"
   ]
  },
  {
   "cell_type": "code",
   "execution_count": 25,
   "metadata": {},
   "outputs": [],
   "source": [
    "num_qubits = 1\n",
    "max_weight = 1\n",
    "term_dict = {(\"H\", \"X\"): 0.0001}"
   ]
  },
  {
   "cell_type": "markdown",
   "metadata": {},
   "source": [
    "^^^^^^^^^^^^^^^^^^^^^^^^^^^^^^^^^^^^^^^^^"
   ]
  },
  {
   "cell_type": "code",
   "execution_count": 26,
   "metadata": {},
   "outputs": [
    {
     "name": "stderr",
     "output_type": "stream",
     "text": [
      "ic| df:        H,+X  H,+Y  H,+Z  S,+X  S,+Y  S,+Z  C,+X,+Y  C,+X,+Z  C,+Y,+Z  A,+X,+Y  \\\n",
      "        X,X,X     0     0     0     0    -2    -2        0        0        0        0   \n",
      "        X,Y,Y     0     0     2     0     0     0        2        0        0        0   \n",
      "        X,Z,Z     0    -2     0     0     0     0        0        2        0       -4   \n",
      "        Y,X,X     0     0    -2     0     0     0        2        0        0        0   \n",
      "        Y,Y,Y     0     0     0    -2     0    -2        0        0        0        0   \n",
      "        Y,Z,Z     2     0     0     0     0     0        0        0        2       -4   \n",
      "        Z,X,X     0     2     0     0     0     0        0        2        0        0   \n",
      "        Z,Y,Y    -2     0     0     0     0     0        0        0        2        0   \n",
      "        Z,Z,Z     0     0     0    -2    -2     0        0        0        0       -4   \n",
      "        \n",
      "               A,+X,+Z  A,+Y,+Z  \n",
      "        X,X,X        0       -4  \n",
      "        X,Y,Y        4        0  \n",
      "        X,Z,Z        0        0  \n",
      "        Y,X,X        0       -4  \n",
      "        Y,Y,Y        4        0  \n",
      "        Y,Z,Z        0        0  \n",
      "        Z,X,X        0       -4  \n",
      "        Z,Y,Y        4        0  \n",
      "        Z,Z,Z        0        0  \n"
     ]
    },
    {
     "data": {
      "text/html": [
       "<div>\n",
       "<style scoped>\n",
       "    .dataframe tbody tr th:only-of-type {\n",
       "        vertical-align: middle;\n",
       "    }\n",
       "\n",
       "    .dataframe tbody tr th {\n",
       "        vertical-align: top;\n",
       "    }\n",
       "\n",
       "    .dataframe thead th {\n",
       "        text-align: right;\n",
       "    }\n",
       "</style>\n",
       "<table border=\"1\" class=\"dataframe\">\n",
       "  <thead>\n",
       "    <tr style=\"text-align: right;\">\n",
       "      <th></th>\n",
       "      <th>H,+X</th>\n",
       "      <th>H,+Y</th>\n",
       "      <th>H,+Z</th>\n",
       "      <th>S,+X</th>\n",
       "      <th>S,+Y</th>\n",
       "      <th>S,+Z</th>\n",
       "      <th>C,+X,+Y</th>\n",
       "      <th>C,+X,+Z</th>\n",
       "      <th>C,+Y,+Z</th>\n",
       "      <th>A,+X,+Y</th>\n",
       "      <th>A,+X,+Z</th>\n",
       "      <th>A,+Y,+Z</th>\n",
       "    </tr>\n",
       "  </thead>\n",
       "  <tbody>\n",
       "    <tr>\n",
       "      <th>X,X,X</th>\n",
       "      <td>0</td>\n",
       "      <td>0</td>\n",
       "      <td>0</td>\n",
       "      <td>0</td>\n",
       "      <td>-2</td>\n",
       "      <td>-2</td>\n",
       "      <td>0</td>\n",
       "      <td>0</td>\n",
       "      <td>0</td>\n",
       "      <td>0</td>\n",
       "      <td>0</td>\n",
       "      <td>-4</td>\n",
       "    </tr>\n",
       "    <tr>\n",
       "      <th>X,Y,Y</th>\n",
       "      <td>0</td>\n",
       "      <td>0</td>\n",
       "      <td>2</td>\n",
       "      <td>0</td>\n",
       "      <td>0</td>\n",
       "      <td>0</td>\n",
       "      <td>2</td>\n",
       "      <td>0</td>\n",
       "      <td>0</td>\n",
       "      <td>0</td>\n",
       "      <td>4</td>\n",
       "      <td>0</td>\n",
       "    </tr>\n",
       "    <tr>\n",
       "      <th>X,Z,Z</th>\n",
       "      <td>0</td>\n",
       "      <td>-2</td>\n",
       "      <td>0</td>\n",
       "      <td>0</td>\n",
       "      <td>0</td>\n",
       "      <td>0</td>\n",
       "      <td>0</td>\n",
       "      <td>2</td>\n",
       "      <td>0</td>\n",
       "      <td>-4</td>\n",
       "      <td>0</td>\n",
       "      <td>0</td>\n",
       "    </tr>\n",
       "    <tr>\n",
       "      <th>Y,X,X</th>\n",
       "      <td>0</td>\n",
       "      <td>0</td>\n",
       "      <td>-2</td>\n",
       "      <td>0</td>\n",
       "      <td>0</td>\n",
       "      <td>0</td>\n",
       "      <td>2</td>\n",
       "      <td>0</td>\n",
       "      <td>0</td>\n",
       "      <td>0</td>\n",
       "      <td>0</td>\n",
       "      <td>-4</td>\n",
       "    </tr>\n",
       "    <tr>\n",
       "      <th>Y,Y,Y</th>\n",
       "      <td>0</td>\n",
       "      <td>0</td>\n",
       "      <td>0</td>\n",
       "      <td>-2</td>\n",
       "      <td>0</td>\n",
       "      <td>-2</td>\n",
       "      <td>0</td>\n",
       "      <td>0</td>\n",
       "      <td>0</td>\n",
       "      <td>0</td>\n",
       "      <td>4</td>\n",
       "      <td>0</td>\n",
       "    </tr>\n",
       "    <tr>\n",
       "      <th>Y,Z,Z</th>\n",
       "      <td>2</td>\n",
       "      <td>0</td>\n",
       "      <td>0</td>\n",
       "      <td>0</td>\n",
       "      <td>0</td>\n",
       "      <td>0</td>\n",
       "      <td>0</td>\n",
       "      <td>0</td>\n",
       "      <td>2</td>\n",
       "      <td>-4</td>\n",
       "      <td>0</td>\n",
       "      <td>0</td>\n",
       "    </tr>\n",
       "    <tr>\n",
       "      <th>Z,X,X</th>\n",
       "      <td>0</td>\n",
       "      <td>2</td>\n",
       "      <td>0</td>\n",
       "      <td>0</td>\n",
       "      <td>0</td>\n",
       "      <td>0</td>\n",
       "      <td>0</td>\n",
       "      <td>2</td>\n",
       "      <td>0</td>\n",
       "      <td>0</td>\n",
       "      <td>0</td>\n",
       "      <td>-4</td>\n",
       "    </tr>\n",
       "    <tr>\n",
       "      <th>Z,Y,Y</th>\n",
       "      <td>-2</td>\n",
       "      <td>0</td>\n",
       "      <td>0</td>\n",
       "      <td>0</td>\n",
       "      <td>0</td>\n",
       "      <td>0</td>\n",
       "      <td>0</td>\n",
       "      <td>0</td>\n",
       "      <td>2</td>\n",
       "      <td>0</td>\n",
       "      <td>4</td>\n",
       "      <td>0</td>\n",
       "    </tr>\n",
       "    <tr>\n",
       "      <th>Z,Z,Z</th>\n",
       "      <td>0</td>\n",
       "      <td>0</td>\n",
       "      <td>0</td>\n",
       "      <td>-2</td>\n",
       "      <td>-2</td>\n",
       "      <td>0</td>\n",
       "      <td>0</td>\n",
       "      <td>0</td>\n",
       "      <td>0</td>\n",
       "      <td>-4</td>\n",
       "      <td>0</td>\n",
       "      <td>0</td>\n",
       "    </tr>\n",
       "  </tbody>\n",
       "</table>\n",
       "</div>"
      ],
      "text/plain": [
       "       H,+X  H,+Y  H,+Z  S,+X  S,+Y  S,+Z  C,+X,+Y  C,+X,+Z  C,+Y,+Z  A,+X,+Y  \\\n",
       "X,X,X     0     0     0     0    -2    -2        0        0        0        0   \n",
       "X,Y,Y     0     0     2     0     0     0        2        0        0        0   \n",
       "X,Z,Z     0    -2     0     0     0     0        0        2        0       -4   \n",
       "Y,X,X     0     0    -2     0     0     0        2        0        0        0   \n",
       "Y,Y,Y     0     0     0    -2     0    -2        0        0        0        0   \n",
       "Y,Z,Z     2     0     0     0     0     0        0        0        2       -4   \n",
       "Z,X,X     0     2     0     0     0     0        0        2        0        0   \n",
       "Z,Y,Y    -2     0     0     0     0     0        0        0        2        0   \n",
       "Z,Z,Z     0     0     0    -2    -2     0        0        0        0       -4   \n",
       "\n",
       "       A,+X,+Z  A,+Y,+Z  \n",
       "X,X,X        0       -4  \n",
       "X,Y,Y        4        0  \n",
       "X,Z,Z        0        0  \n",
       "Y,X,X        0       -4  \n",
       "Y,Y,Y        4        0  \n",
       "Y,Z,Z        0        0  \n",
       "Z,X,X        0       -4  \n",
       "Z,Y,Y        4        0  \n",
       "Z,Z,Z        0        0  "
      ]
     },
     "execution_count": 26,
     "metadata": {},
     "output_type": "execute_result"
    }
   ],
   "source": [
    "HS_index_iterator = stim.PauliString.iter_all(\n",
    "    num_qubits, min_weight=1, max_weight=max_weight\n",
    ")\n",
    "\n",
    "pauli_node_attributes = list([p for p in HS_index_iterator])\n",
    "ca_pauli_node_attributes = list(_itertools.combinations(pauli_node_attributes, 2))\n",
    "\n",
    "def ca_pauli_weight_filter(pauli_pair, max_weight):\n",
    "    used_indices_1 = set(\n",
    "        i for i, ltr in enumerate(str(pauli_pair[0])[1:]) if ltr != \"_\"\n",
    "    )\n",
    "    used_indices_2 = set(\n",
    "        i for i, ltr in enumerate(str(pauli_pair[1])[1:]) if ltr != \"_\"\n",
    "    )\n",
    "    intersect = used_indices_1.intersection(used_indices_2)\n",
    "    if len(intersect) > 0 and len(intersect) <= max_weight:\n",
    "        return True\n",
    "\n",
    "ca_pauli_node_attributes = [\n",
    "    ppair\n",
    "    for ppair in ca_pauli_node_attributes\n",
    "    if ca_pauli_weight_filter(ppair, max_weight)\n",
    "]\n",
    "\n",
    "measure_string_iterator = stim.PauliString.iter_all(\n",
    "    num_qubits, min_weight=num_qubits\n",
    ")\n",
    "measure_string_attributes = list([p for p in measure_string_iterator])\n",
    "\n",
    "hs_error_gen_classes = \"hs\"\n",
    "ca_error_gen_classes = \"ca\"\n",
    "\n",
    "\n",
    "hs_experiment = list(\n",
    "    product(\n",
    "        hs_error_gen_classes,\n",
    "        pauli_node_attributes,\n",
    "        measure_string_attributes,\n",
    "        measure_string_attributes,\n",
    "    )\n",
    ")\n",
    "ca_experiment = list(\n",
    "    product(\n",
    "        ca_error_gen_classes,\n",
    "        ca_pauli_node_attributes,\n",
    "        measure_string_attributes,\n",
    "        measure_string_attributes,\n",
    "    )\n",
    ")\n",
    "\n",
    "\n",
    "\n",
    "import pandas as pd\n",
    "\n",
    "# df = pd.DataFrame()\n",
    "jacobian_coef_dict = {\"index\": OrderedSet(), \"columns\": OrderedSet()}\n",
    "data = {}\n",
    "\n",
    "# These come back as class, index, prep_str, meas_str, observ_str: coef\n",
    "# I THINK this is right, should double check and write unit tests\n",
    "for key in hs_experiment + ca_experiment:\n",
    "    elt = jacobian_coefficient_calc(*key)\n",
    "    for el in elt:\n",
    "        if el:\n",
    "            observable = \",\".join(str(s)[1:] for s in el[-4:-1])\n",
    "            egen = \",\".join(str(s) for s in el[:-4])\n",
    "            coef = int(el[-1])\n",
    "            jacobian_coef_dict[\"index\"].add(observable)\n",
    "            jacobian_coef_dict[\"columns\"].add(egen)\n",
    "            if data.get(egen):\n",
    "                data[egen].append(coef)\n",
    "            else:\n",
    "                data[egen] = [coef]\n",
    "\n",
    "df = pd.DataFrame(data, index= jacobian_coef_dict[\"index\"], columns=jacobian_coef_dict[\"columns\"])\n",
    "ic(df)"
   ]
  },
  {
   "cell_type": "code",
   "execution_count": 27,
   "metadata": {},
   "outputs": [],
   "source": [
    "import numpy as np\n",
    "np.set_printoptions(precision=1, linewidth=1000)"
   ]
  },
  {
   "cell_type": "code",
   "execution_count": 28,
   "metadata": {},
   "outputs": [],
   "source": [
    "import pygsti\n",
    "from pygsti.extras import idletomography as idt\n",
    "gates = [\"Gi\", \"Gx\", \"Gy\", \"Gcnot\"]\n",
    "max_lengths = [1, 2]\n",
    "pspec = pygsti.processors.QubitProcessorSpec(\n",
    "        num_qubits, gates, geometry=\"line\", nonstd_gate_unitaries={(): num_qubits, \"Gi\": np.eye((2**num_qubits))},\n",
    "        availability={\"Gi\": [tuple(i for i in range(num_qubits))]},\n",
    "    )\n",
    "mdl_target = pygsti.models.create_crosstalk_free_model(pspec)\n",
    "paulidicts = idt.determine_paulidicts(mdl_target)\n",
    "idle_experiments = idt.make_idle_tomography_list(\n",
    "        num_qubits, max_lengths, paulidicts, maxweight=1\n",
    "    )"
   ]
  },
  {
   "cell_type": "code",
   "execution_count": 29,
   "metadata": {},
   "outputs": [
    {
     "name": "stderr",
     "output_type": "stream",
     "text": [
      "C:\\Users\\rundx\\pyGSTi\\pygsti\\circuits\\circuit.py:816: UserWarning: Editable circuit is being converted to read-only mode in order to hash it.  You should call circuit.done_editing() beforehand.\n",
      "  _warnings.warn((\"Editable circuit is being converted to read-only\"\n"
     ]
    },
    {
     "data": {
      "text/plain": [
       "<pygsti.data.dataset.DataSet at 0x14813ee6aa0>"
      ]
     },
     "execution_count": 29,
     "metadata": {},
     "output_type": "execute_result"
    }
   ],
   "source": [
    "mdl_datagen = pygsti.models.create_crosstalk_free_model(\n",
    "pspec, lindblad_error_coeffs={\"Gi\": term_dict},lindblad_parameterization=\"GLND\")\n",
    "updated_ckt_list = []\n",
    "from pygsti.baseobjs import Label\n",
    "for ckt in idle_experiments:\n",
    "    new_ckt = ckt.copy(editable=True)\n",
    "    for i, lbl in enumerate(ckt):\n",
    "        if lbl == Label(()):\n",
    "            # new_ckt[i] = [Label((\"Gi\", i)) for i in range(n_qubits)]\n",
    "            new_ckt[i] = Label(\"Gi\", tuple(i for i in range(num_qubits)))\n",
    "            # new_ckt[i] = Label((\"Gi\", 0))\n",
    "    updated_ckt_list.append(new_ckt)\n",
    "\n",
    "# Error models! Random with right CP constraints from Taxonomy paper\n",
    "ds = pygsti.data.simulate_data(\n",
    "    mdl_datagen, updated_ckt_list, 10000000, seed=8675309, sample_error=\"none\"\n",
    ")"
   ]
  },
  {
   "cell_type": "code",
   "execution_count": 30,
   "metadata": {},
   "outputs": [],
   "source": [
    "from idttools import allerrors, all_full_length_observables, alloutcomes\n",
    "import collections as _collections\n",
    "from pygsti.circuits.circuit import Circuit as _Circuit\n",
    "def report_observed_rates(nqubits,\n",
    "    dataset,\n",
    "    max_lengths,\n",
    "    pauli_basis_dicts,\n",
    "    maxweight=2,\n",
    "    idle_string=((),),):\n",
    "    all_fidpairs = dict(enumerate(idt.idle_tomography_fidpairs(nqubits)))\n",
    "    # print(all_fidpairs)\n",
    "    if nqubits == 1:  # special case where line-labels may be ('*',)\n",
    "        if len(dataset) > 0:\n",
    "            first_circuit = list(dataset.keys())[0]\n",
    "            line_labels = first_circuit.line_labels\n",
    "        else:\n",
    "            line_labels = (0,)\n",
    "        GiStr = _Circuit(idle_string, line_labels=line_labels)\n",
    "    else:\n",
    "        GiStr = _Circuit(idle_string, num_lines=nqubits)\n",
    "    obs_infos = dict()\n",
    "    errors = allerrors(nqubits, maxweight)\n",
    "    fit_order = 1\n",
    "    observed_error_rates = {}\n",
    "    obs_error_rates_by_exp = {}\n",
    "    whatever = {}\n",
    "    for ifp, pauli_fidpair in all_fidpairs.items():\n",
    "        all_observables = all_full_length_observables(\n",
    "            pauli_fidpair[1], nqubits\n",
    "        )\n",
    "        all_outcomes = idt.idttools.allobservables(pauli_fidpair[1], maxweight)\n",
    "        infos_for_this_fidpair = _collections.OrderedDict()\n",
    "        for j, out in enumerate(all_outcomes):\n",
    "            info = idt.compute_observed_err_rate(\n",
    "                dataset,\n",
    "                pauli_fidpair,\n",
    "                pauli_basis_dicts,\n",
    "                GiStr,\n",
    "                out,\n",
    "                max_lengths,\n",
    "                fit_order,\n",
    "            )\n",
    "\n",
    "            #info[\"jacobian row\"] = full_jacobian[ifp]\n",
    "            infos_for_this_fidpair[out] = info\n",
    "            # ic(infos_for_this_fidpair)\n",
    "            \n",
    "            obs_infos[ifp] = infos_for_this_fidpair\n",
    "            observed_error_rates[ifp] = [\n",
    "                info[\"rate\"] for info in infos_for_this_fidpair.values()\n",
    "            ]\n",
    "            obs_error_rates_by_exp[str(pauli_fidpair[0]).replace(\"+\",\"\"), str(pauli_fidpair[1]).replace(\"+\",\"\"), str(out).replace(\"+\",\"\").replace(\"I\",\"_\")] = [\n",
    "                info[\"rate\"] for info in infos_for_this_fidpair.values()\n",
    "            ][-1]\n",
    "            # obs_err_rates = np.concatenate([np.array([\n",
    "            #                 observed_error_rates[i]\n",
    "            #                 for i in range(len(all_fidpairs))\n",
    "            #                 ]\n",
    "            #             )\n",
    "            #         ]\n",
    "            #     )\n",
    "        whatever[pauli_fidpair] = 1\n",
    "    return observed_error_rates, obs_error_rates_by_exp"
   ]
  },
  {
   "cell_type": "code",
   "execution_count": 31,
   "metadata": {},
   "outputs": [],
   "source": [
    "idl_string = \"Gi:\"+\":\".join((str(i) for i in range(num_qubits)))\n",
    "observed_error_rates, obs_error_rates_by_exp = report_observed_rates(num_qubits, ds, max_lengths, paulidicts, idle_string=idl_string)"
   ]
  },
  {
   "cell_type": "code",
   "execution_count": 32,
   "metadata": {},
   "outputs": [
    {
     "data": {
      "text/plain": [
       "{0: [-1.6953455232808294e-16],\n",
       " 1: [0.0],\n",
       " 2: [0.0],\n",
       " 3: [0.0],\n",
       " 4: [-5.999999781217825e-08],\n",
       " 5: [0.00020000000000000006],\n",
       " 6: [0.0],\n",
       " 7: [-0.00019999999999999996],\n",
       " 8: [-5.999999781217825e-08]}"
      ]
     },
     "execution_count": 32,
     "metadata": {},
     "output_type": "execute_result"
    }
   ],
   "source": [
    "observed_error_rates"
   ]
  },
  {
   "cell_type": "code",
   "execution_count": 33,
   "metadata": {},
   "outputs": [
    {
     "data": {
      "text/plain": [
       "{('X', 'X', ' X'): -1.6953455232808294e-16,\n",
       " ('X', 'Y', ' Y'): 0.0,\n",
       " ('X', 'Z', ' Z'): 0.0,\n",
       " ('Y', 'X', ' X'): 0.0,\n",
       " ('Y', 'Y', ' Y'): -5.999999781217825e-08,\n",
       " ('Y', 'Z', ' Z'): 0.00020000000000000006,\n",
       " ('Z', 'X', ' X'): 0.0,\n",
       " ('Z', 'Y', ' Y'): -0.00019999999999999996,\n",
       " ('Z', 'Z', ' Z'): -5.999999781217825e-08}"
      ]
     },
     "execution_count": 33,
     "metadata": {},
     "output_type": "execute_result"
    }
   ],
   "source": [
    "obs_error_rates_by_exp"
   ]
  },
  {
   "cell_type": "code",
   "execution_count": 34,
   "metadata": {},
   "outputs": [],
   "source": [
    "obs_rats = [v for v in obs_error_rates_by_exp.values()]"
   ]
  },
  {
   "cell_type": "code",
   "execution_count": 35,
   "metadata": {},
   "outputs": [],
   "source": [
    "j = df.to_numpy()"
   ]
  },
  {
   "cell_type": "markdown",
   "metadata": {},
   "source": [
    "sanity check: jacobian constructed is full rank"
   ]
  },
  {
   "cell_type": "code",
   "execution_count": 36,
   "metadata": {},
   "outputs": [],
   "source": [
    "jinv = np.linalg.pinv(j)"
   ]
  },
  {
   "cell_type": "code",
   "execution_count": 37,
   "metadata": {},
   "outputs": [],
   "source": [
    "intrins_errs = jinv @ obs_rats"
   ]
  },
  {
   "cell_type": "markdown",
   "metadata": {},
   "source": [
    "# Supposed intrinsic error rates (wrong)"
   ]
  },
  {
   "cell_type": "code",
   "execution_count": 38,
   "metadata": {},
   "outputs": [
    {
     "data": {
      "text/plain": [
       "{'H,+X': 7.77777777777778e-05,\n",
       " 'H,+Y': 1.1104444444706343e-05,\n",
       " 'H,+Z': 1.1117777777515843e-05,\n",
       " 'S,+X': 1.9444443715831495e-08,\n",
       " 'S,+Y': 2.2224999999926164e-05,\n",
       " 'S,+Z': -2.2219444444518296e-05,\n",
       " 'C,+X,+Y': 1.1112222222192704e-05,\n",
       " 'C,+X,+Z': -1.1110000000029541e-05,\n",
       " 'C,+Y,+Z': 7.77777748634276e-09,\n",
       " 'A,+X,+Y': -1.1107222222367944e-05,\n",
       " 'A,+X,+Z': -1.1114999999854266e-05,\n",
       " 'A,+Y,+Z': -2.777777661587134e-09}"
      ]
     },
     "execution_count": 38,
     "metadata": {},
     "output_type": "execute_result"
    }
   ],
   "source": [
    "dict(zip(df.columns,intrins_errs))"
   ]
  }
 ],
 "metadata": {
  "kernelspec": {
   "display_name": "qcvv",
   "language": "python",
   "name": "python3"
  },
  "language_info": {
   "codemirror_mode": {
    "name": "ipython",
    "version": 3
   },
   "file_extension": ".py",
   "mimetype": "text/x-python",
   "name": "python",
   "nbconvert_exporter": "python",
   "pygments_lexer": "ipython3",
   "version": "3.10.0"
  }
 },
 "nbformat": 4,
 "nbformat_minor": 2
}
