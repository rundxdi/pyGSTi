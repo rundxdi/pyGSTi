{
 "cells": [
  {
   "cell_type": "code",
   "execution_count": 127,
   "metadata": {},
   "outputs": [],
   "source": [
    "from icecream import ic\n",
    "from ordered_set import OrderedSet\n",
    "from itertools import product\n",
    "import itertools as _itertools\n",
    "import stim\n",
    "from idtcorev2 import jacobian_coefficient_calc"
   ]
  },
  {
   "cell_type": "markdown",
   "metadata": {},
   "source": [
    "# Update important parameters here!\n",
    "VVVVVVVVVVVVVVVVVVVVVVVVVVVVVVVVVVV"
   ]
  },
  {
   "cell_type": "code",
   "execution_count": 128,
   "metadata": {},
   "outputs": [],
   "source": [
    "num_qubits = 3\n",
    "max_weight = 2\n",
    "term_dict = {(\"H\", \"XIX\"): 0.0001}"
   ]
  },
  {
   "cell_type": "markdown",
   "metadata": {},
   "source": [
    "^^^^^^^^^^^^^^^^^^^^^^^^^^^^^^^^^^^^^^^^^"
   ]
  },
  {
   "cell_type": "code",
   "execution_count": 129,
   "metadata": {},
   "outputs": [
    {
     "ename": "KeyboardInterrupt",
     "evalue": "",
     "output_type": "error",
     "traceback": [
      "\u001b[1;31m---------------------------------------------------------------------------\u001b[0m",
      "\u001b[1;31mKeyboardInterrupt\u001b[0m                         Traceback (most recent call last)",
      "Cell \u001b[1;32mIn[129], line 62\u001b[0m\n\u001b[0;32m     59\u001b[0m \u001b[38;5;66;03m# These come back as class, index, prep_str, meas_str, observ_str: coef\u001b[39;00m\n\u001b[0;32m     60\u001b[0m \u001b[38;5;66;03m# I THINK this is right, should double check and write unit tests\u001b[39;00m\n\u001b[0;32m     61\u001b[0m \u001b[38;5;28;01mfor\u001b[39;00m key \u001b[38;5;129;01min\u001b[39;00m hs_experiment \u001b[38;5;241m+\u001b[39m ca_experiment:\n\u001b[1;32m---> 62\u001b[0m     elt \u001b[38;5;241m=\u001b[39m \u001b[43mjacobian_coefficient_calc\u001b[49m\u001b[43m(\u001b[49m\u001b[38;5;241;43m*\u001b[39;49m\u001b[43mkey\u001b[49m\u001b[43m)\u001b[49m\n\u001b[0;32m     63\u001b[0m     \u001b[38;5;28;01mfor\u001b[39;00m el \u001b[38;5;129;01min\u001b[39;00m elt:\n\u001b[0;32m     64\u001b[0m         \u001b[38;5;28;01mif\u001b[39;00m el:\n",
      "File \u001b[1;32mc:\\Users\\jkskolf\\pyGSTi\\pygsti\\extras\\idletomography\\idtcorev2.py:290\u001b[0m, in \u001b[0;36mjacobian_coefficient_calc\u001b[1;34m(error_gen_type, pauli_index, prep_string, meas_string)\u001b[0m\n\u001b[0;32m    284\u001b[0m                 t \u001b[38;5;241m+\u001b[39m\u001b[38;5;241m=\u001b[39m (\n\u001b[0;32m    285\u001b[0m                     norm\n\u001b[0;32m    286\u001b[0m                     \u001b[38;5;241m*\u001b[39m (\u001b[38;5;241m1\u001b[39m \u001b[38;5;241m/\u001b[39m \u001b[38;5;241m2\u001b[39m \u001b[38;5;241m*\u001b[39m\u001b[38;5;241m*\u001b[39m (\u001b[38;5;28mlen\u001b[39m(string)))\n\u001b[0;32m    287\u001b[0m                     \u001b[38;5;241m*\u001b[39m _np\u001b[38;5;241m.\u001b[39mtrace(second_matrix\u001b[38;5;241m.\u001b[39mto_unitary_matrix(endian\u001b[38;5;241m=\u001b[39m\u001b[38;5;124m\"\u001b[39m\u001b[38;5;124mlittle\u001b[39m\u001b[38;5;124m\"\u001b[39m))\n\u001b[0;32m    288\u001b[0m                 )\n\u001b[0;32m    289\u001b[0m         \u001b[38;5;28;01mif\u001b[39;00m _np\u001b[38;5;241m.\u001b[39mabsolute(t) \u001b[38;5;241m>\u001b[39m \u001b[38;5;241m0.0001\u001b[39m:\n\u001b[1;32m--> 290\u001b[0m             \u001b[43mlogger\u001b[49m\u001b[38;5;241;43m.\u001b[39;49m\u001b[43minfo\u001b[49m\u001b[43m(\u001b[49m\n\u001b[0;32m    291\u001b[0m \u001b[43m                \u001b[49m\u001b[38;5;124;43mf\u001b[39;49m\u001b[38;5;124;43m\"\u001b[39;49m\u001b[38;5;124;43mPositive match \u001b[39;49m\u001b[38;5;130;43;01m\\n\u001b[39;49;00m\u001b[38;5;130;43;01m\\n\u001b[39;49;00m\u001b[38;5;124;43mC[\u001b[39;49m\u001b[38;5;132;43;01m{\u001b[39;49;00m\u001b[43mpauli_index_1\u001b[49m\u001b[38;5;132;43;01m}\u001b[39;49;00m\u001b[38;5;124;43m,\u001b[39;49m\u001b[38;5;132;43;01m{\u001b[39;49;00m\u001b[43mpauli_index_2\u001b[49m\u001b[38;5;132;43;01m}\u001b[39;49;00m\u001b[38;5;124;43m]; Experiment (\u001b[39;49m\u001b[38;5;132;43;01m{\u001b[39;49;00m\u001b[43mprep_string\u001b[49m\u001b[38;5;132;43;01m}\u001b[39;49;00m\u001b[38;5;124;43m/\u001b[39;49m\u001b[38;5;132;43;01m{\u001b[39;49;00m\u001b[43mmeas_string\u001b[49m\u001b[38;5;132;43;01m}\u001b[39;49;00m\u001b[38;5;124;43m); Observable \u001b[39;49m\u001b[38;5;132;43;01m{\u001b[39;49;00m\u001b[43mmstring\u001b[49m\u001b[38;5;132;43;01m}\u001b[39;49;00m\u001b[38;5;124;43m; Coef \u001b[39;49m\u001b[38;5;132;43;01m{\u001b[39;49;00m\u001b[43mt\u001b[49m\u001b[38;5;132;43;01m}\u001b[39;49;00m\u001b[38;5;130;43;01m\\n\u001b[39;49;00m\u001b[38;5;124;43m\"\u001b[39;49m\n\u001b[0;32m    292\u001b[0m \u001b[43m            \u001b[49m\u001b[43m)\u001b[49m\n\u001b[0;32m    293\u001b[0m         coef_list\u001b[38;5;241m.\u001b[39mappend(\n\u001b[0;32m    294\u001b[0m             [\n\u001b[0;32m    295\u001b[0m                 \u001b[38;5;124m\"\u001b[39m\u001b[38;5;124mC\u001b[39m\u001b[38;5;124m\"\u001b[39m,\n\u001b[1;32m   (...)\u001b[0m\n\u001b[0;32m    302\u001b[0m             ]\n\u001b[0;32m    303\u001b[0m         )\n\u001b[0;32m    305\u001b[0m \u001b[38;5;28;01melif\u001b[39;00m error_gen_type \u001b[38;5;241m==\u001b[39m \u001b[38;5;124m\"\u001b[39m\u001b[38;5;124ma\u001b[39m\u001b[38;5;124m\"\u001b[39m:\n",
      "File \u001b[1;32mc:\\Users\\jkskolf\\AppData\\Local\\miniconda3\\envs\\qcvv\\lib\\logging\\__init__.py:1477\u001b[0m, in \u001b[0;36mLogger.info\u001b[1;34m(self, msg, *args, **kwargs)\u001b[0m\n\u001b[0;32m   1468\u001b[0m \u001b[38;5;250m\u001b[39m\u001b[38;5;124;03m\"\"\"\u001b[39;00m\n\u001b[0;32m   1469\u001b[0m \u001b[38;5;124;03mLog 'msg % args' with severity 'INFO'.\u001b[39;00m\n\u001b[0;32m   1470\u001b[0m \n\u001b[1;32m   (...)\u001b[0m\n\u001b[0;32m   1474\u001b[0m \u001b[38;5;124;03mlogger.info(\"Houston, we have a %s\", \"interesting problem\", exc_info=1)\u001b[39;00m\n\u001b[0;32m   1475\u001b[0m \u001b[38;5;124;03m\"\"\"\u001b[39;00m\n\u001b[0;32m   1476\u001b[0m \u001b[38;5;28;01mif\u001b[39;00m \u001b[38;5;28mself\u001b[39m\u001b[38;5;241m.\u001b[39misEnabledFor(INFO):\n\u001b[1;32m-> 1477\u001b[0m     \u001b[38;5;28mself\u001b[39m\u001b[38;5;241m.\u001b[39m_log(INFO, msg, args, \u001b[38;5;241m*\u001b[39m\u001b[38;5;241m*\u001b[39mkwargs)\n",
      "File \u001b[1;32mc:\\Users\\jkskolf\\AppData\\Local\\miniconda3\\envs\\qcvv\\lib\\logging\\__init__.py:1624\u001b[0m, in \u001b[0;36mLogger._log\u001b[1;34m(self, level, msg, args, exc_info, extra, stack_info, stacklevel)\u001b[0m\n\u001b[0;32m   1621\u001b[0m         exc_info \u001b[38;5;241m=\u001b[39m sys\u001b[38;5;241m.\u001b[39mexc_info()\n\u001b[0;32m   1622\u001b[0m record \u001b[38;5;241m=\u001b[39m \u001b[38;5;28mself\u001b[39m\u001b[38;5;241m.\u001b[39mmakeRecord(\u001b[38;5;28mself\u001b[39m\u001b[38;5;241m.\u001b[39mname, level, fn, lno, msg, args,\n\u001b[0;32m   1623\u001b[0m                          exc_info, func, extra, sinfo)\n\u001b[1;32m-> 1624\u001b[0m \u001b[38;5;28;43mself\u001b[39;49m\u001b[38;5;241;43m.\u001b[39;49m\u001b[43mhandle\u001b[49m\u001b[43m(\u001b[49m\u001b[43mrecord\u001b[49m\u001b[43m)\u001b[49m\n",
      "File \u001b[1;32mc:\\Users\\jkskolf\\AppData\\Local\\miniconda3\\envs\\qcvv\\lib\\logging\\__init__.py:1634\u001b[0m, in \u001b[0;36mLogger.handle\u001b[1;34m(self, record)\u001b[0m\n\u001b[0;32m   1627\u001b[0m \u001b[38;5;250m\u001b[39m\u001b[38;5;124;03m\"\"\"\u001b[39;00m\n\u001b[0;32m   1628\u001b[0m \u001b[38;5;124;03mCall the handlers for the specified record.\u001b[39;00m\n\u001b[0;32m   1629\u001b[0m \n\u001b[0;32m   1630\u001b[0m \u001b[38;5;124;03mThis method is used for unpickled records received from a socket, as\u001b[39;00m\n\u001b[0;32m   1631\u001b[0m \u001b[38;5;124;03mwell as those created locally. Logger-level filtering is applied.\u001b[39;00m\n\u001b[0;32m   1632\u001b[0m \u001b[38;5;124;03m\"\"\"\u001b[39;00m\n\u001b[0;32m   1633\u001b[0m \u001b[38;5;28;01mif\u001b[39;00m (\u001b[38;5;129;01mnot\u001b[39;00m \u001b[38;5;28mself\u001b[39m\u001b[38;5;241m.\u001b[39mdisabled) \u001b[38;5;129;01mand\u001b[39;00m \u001b[38;5;28mself\u001b[39m\u001b[38;5;241m.\u001b[39mfilter(record):\n\u001b[1;32m-> 1634\u001b[0m     \u001b[38;5;28;43mself\u001b[39;49m\u001b[38;5;241;43m.\u001b[39;49m\u001b[43mcallHandlers\u001b[49m\u001b[43m(\u001b[49m\u001b[43mrecord\u001b[49m\u001b[43m)\u001b[49m\n",
      "File \u001b[1;32mc:\\Users\\jkskolf\\AppData\\Local\\miniconda3\\envs\\qcvv\\lib\\logging\\__init__.py:1696\u001b[0m, in \u001b[0;36mLogger.callHandlers\u001b[1;34m(self, record)\u001b[0m\n\u001b[0;32m   1694\u001b[0m     found \u001b[38;5;241m=\u001b[39m found \u001b[38;5;241m+\u001b[39m \u001b[38;5;241m1\u001b[39m\n\u001b[0;32m   1695\u001b[0m     \u001b[38;5;28;01mif\u001b[39;00m record\u001b[38;5;241m.\u001b[39mlevelno \u001b[38;5;241m>\u001b[39m\u001b[38;5;241m=\u001b[39m hdlr\u001b[38;5;241m.\u001b[39mlevel:\n\u001b[1;32m-> 1696\u001b[0m         \u001b[43mhdlr\u001b[49m\u001b[38;5;241;43m.\u001b[39;49m\u001b[43mhandle\u001b[49m\u001b[43m(\u001b[49m\u001b[43mrecord\u001b[49m\u001b[43m)\u001b[49m\n\u001b[0;32m   1697\u001b[0m \u001b[38;5;28;01mif\u001b[39;00m \u001b[38;5;129;01mnot\u001b[39;00m c\u001b[38;5;241m.\u001b[39mpropagate:\n\u001b[0;32m   1698\u001b[0m     c \u001b[38;5;241m=\u001b[39m \u001b[38;5;28;01mNone\u001b[39;00m    \u001b[38;5;66;03m#break out\u001b[39;00m\n",
      "File \u001b[1;32mc:\\Users\\jkskolf\\AppData\\Local\\miniconda3\\envs\\qcvv\\lib\\logging\\__init__.py:968\u001b[0m, in \u001b[0;36mHandler.handle\u001b[1;34m(self, record)\u001b[0m\n\u001b[0;32m    966\u001b[0m \u001b[38;5;28mself\u001b[39m\u001b[38;5;241m.\u001b[39macquire()\n\u001b[0;32m    967\u001b[0m \u001b[38;5;28;01mtry\u001b[39;00m:\n\u001b[1;32m--> 968\u001b[0m     \u001b[38;5;28;43mself\u001b[39;49m\u001b[38;5;241;43m.\u001b[39;49m\u001b[43memit\u001b[49m\u001b[43m(\u001b[49m\u001b[43mrecord\u001b[49m\u001b[43m)\u001b[49m\n\u001b[0;32m    969\u001b[0m \u001b[38;5;28;01mfinally\u001b[39;00m:\n\u001b[0;32m    970\u001b[0m     \u001b[38;5;28mself\u001b[39m\u001b[38;5;241m.\u001b[39mrelease()\n",
      "File \u001b[1;32mc:\\Users\\jkskolf\\AppData\\Local\\miniconda3\\envs\\qcvv\\lib\\logging\\__init__.py:1218\u001b[0m, in \u001b[0;36mFileHandler.emit\u001b[1;34m(self, record)\u001b[0m\n\u001b[0;32m   1216\u001b[0m         \u001b[38;5;28mself\u001b[39m\u001b[38;5;241m.\u001b[39mstream \u001b[38;5;241m=\u001b[39m \u001b[38;5;28mself\u001b[39m\u001b[38;5;241m.\u001b[39m_open()\n\u001b[0;32m   1217\u001b[0m \u001b[38;5;28;01mif\u001b[39;00m \u001b[38;5;28mself\u001b[39m\u001b[38;5;241m.\u001b[39mstream:\n\u001b[1;32m-> 1218\u001b[0m     \u001b[43mStreamHandler\u001b[49m\u001b[38;5;241;43m.\u001b[39;49m\u001b[43memit\u001b[49m\u001b[43m(\u001b[49m\u001b[38;5;28;43mself\u001b[39;49m\u001b[43m,\u001b[49m\u001b[43m \u001b[49m\u001b[43mrecord\u001b[49m\u001b[43m)\u001b[49m\n",
      "File \u001b[1;32mc:\\Users\\jkskolf\\AppData\\Local\\miniconda3\\envs\\qcvv\\lib\\logging\\__init__.py:1104\u001b[0m, in \u001b[0;36mStreamHandler.emit\u001b[1;34m(self, record)\u001b[0m\n\u001b[0;32m   1102\u001b[0m     \u001b[38;5;66;03m# issue 35046: merged two stream.writes into one.\u001b[39;00m\n\u001b[0;32m   1103\u001b[0m     stream\u001b[38;5;241m.\u001b[39mwrite(msg \u001b[38;5;241m+\u001b[39m \u001b[38;5;28mself\u001b[39m\u001b[38;5;241m.\u001b[39mterminator)\n\u001b[1;32m-> 1104\u001b[0m     \u001b[38;5;28;43mself\u001b[39;49m\u001b[38;5;241;43m.\u001b[39;49m\u001b[43mflush\u001b[49m\u001b[43m(\u001b[49m\u001b[43m)\u001b[49m\n\u001b[0;32m   1105\u001b[0m \u001b[38;5;28;01mexcept\u001b[39;00m \u001b[38;5;167;01mRecursionError\u001b[39;00m:  \u001b[38;5;66;03m# See issue 36272\u001b[39;00m\n\u001b[0;32m   1106\u001b[0m     \u001b[38;5;28;01mraise\u001b[39;00m\n",
      "File \u001b[1;32mc:\\Users\\jkskolf\\AppData\\Local\\miniconda3\\envs\\qcvv\\lib\\logging\\__init__.py:1084\u001b[0m, in \u001b[0;36mStreamHandler.flush\u001b[1;34m(self)\u001b[0m\n\u001b[0;32m   1082\u001b[0m \u001b[38;5;28;01mtry\u001b[39;00m:\n\u001b[0;32m   1083\u001b[0m     \u001b[38;5;28;01mif\u001b[39;00m \u001b[38;5;28mself\u001b[39m\u001b[38;5;241m.\u001b[39mstream \u001b[38;5;129;01mand\u001b[39;00m \u001b[38;5;28mhasattr\u001b[39m(\u001b[38;5;28mself\u001b[39m\u001b[38;5;241m.\u001b[39mstream, \u001b[38;5;124m\"\u001b[39m\u001b[38;5;124mflush\u001b[39m\u001b[38;5;124m\"\u001b[39m):\n\u001b[1;32m-> 1084\u001b[0m         \u001b[38;5;28;43mself\u001b[39;49m\u001b[38;5;241;43m.\u001b[39;49m\u001b[43mstream\u001b[49m\u001b[38;5;241;43m.\u001b[39;49m\u001b[43mflush\u001b[49m\u001b[43m(\u001b[49m\u001b[43m)\u001b[49m\n\u001b[0;32m   1085\u001b[0m \u001b[38;5;28;01mfinally\u001b[39;00m:\n\u001b[0;32m   1086\u001b[0m     \u001b[38;5;28mself\u001b[39m\u001b[38;5;241m.\u001b[39mrelease()\n",
      "\u001b[1;31mKeyboardInterrupt\u001b[0m: "
     ]
    }
   ],
   "source": [
    "HS_index_iterator = stim.PauliString.iter_all(\n",
    "    num_qubits, min_weight=1, max_weight=max_weight\n",
    ")\n",
    "\n",
    "pauli_node_attributes = list([p for p in HS_index_iterator])\n",
    "ca_pauli_node_attributes = list(_itertools.combinations(pauli_node_attributes, 2))\n",
    "\n",
    "def ca_pauli_weight_filter(pauli_pair, max_weight):\n",
    "    used_indices_1 = set(\n",
    "        i for i, ltr in enumerate(str(pauli_pair[0])[1:]) if ltr != \"_\"\n",
    "    )\n",
    "    used_indices_2 = set(\n",
    "        i for i, ltr in enumerate(str(pauli_pair[1])[1:]) if ltr != \"_\"\n",
    "    )\n",
    "    intersect = used_indices_1.intersection(used_indices_2)\n",
    "    if len(intersect) > 0 and len(intersect) <= max_weight:\n",
    "        return True\n",
    "\n",
    "ca_pauli_node_attributes = [\n",
    "    ppair\n",
    "    for ppair in ca_pauli_node_attributes\n",
    "    if ca_pauli_weight_filter(ppair, max_weight)\n",
    "]\n",
    "\n",
    "measure_string_iterator = stim.PauliString.iter_all(\n",
    "    num_qubits, min_weight=num_qubits\n",
    ")\n",
    "measure_string_attributes = list([p for p in measure_string_iterator])\n",
    "\n",
    "hs_error_gen_classes = \"hs\"\n",
    "ca_error_gen_classes = \"c\"\n",
    "\n",
    "\n",
    "hs_experiment = list(\n",
    "    product(\n",
    "        hs_error_gen_classes,\n",
    "        pauli_node_attributes,\n",
    "        measure_string_attributes,\n",
    "        measure_string_attributes,\n",
    "    )\n",
    ")\n",
    "ca_experiment = list(\n",
    "    product(\n",
    "        ca_error_gen_classes,\n",
    "        ca_pauli_node_attributes,\n",
    "        measure_string_attributes,\n",
    "        measure_string_attributes,\n",
    "    )\n",
    ")\n",
    "\n",
    "\n",
    "\n",
    "import pandas as pd\n",
    "\n",
    "# df = pd.DataFrame()\n",
    "jacobian_coef_dict = {\"index\": OrderedSet(), \"columns\": OrderedSet()}\n",
    "data = {}\n",
    "\n",
    "# These come back as class, index, prep_str, meas_str, observ_str: coef\n",
    "# I THINK this is right, should double check and write unit tests\n",
    "for key in hs_experiment + ca_experiment:\n",
    "    elt = jacobian_coefficient_calc(*key)\n",
    "    for el in elt:\n",
    "        if el:\n",
    "            observable = \",\".join(str(s)[1:] for s in el[-4:-1])\n",
    "            egen = \",\".join(str(s) for s in el[:-4])\n",
    "            coef = int(el[-1])\n",
    "            jacobian_coef_dict[\"index\"].add(observable)\n",
    "            jacobian_coef_dict[\"columns\"].add(egen)\n",
    "            if data.get(egen):\n",
    "                data[egen].append(coef)\n",
    "            else:\n",
    "                data[egen] = [coef]\n",
    "\n",
    "df = pd.DataFrame(data, index= jacobian_coef_dict[\"index\"], columns=jacobian_coef_dict[\"columns\"])\n",
    "ic(df)"
   ]
  },
  {
   "cell_type": "code",
   "execution_count": null,
   "metadata": {},
   "outputs": [],
   "source": [
    "import numpy as np\n",
    "np.set_printoptions(precision=1, linewidth=1000)"
   ]
  },
  {
   "cell_type": "code",
   "execution_count": null,
   "metadata": {},
   "outputs": [],
   "source": [
    "import pygsti\n",
    "from pygsti.extras import idletomography as idt\n",
    "gates = [\"Gi\", \"Gx\", \"Gy\", \"Gcnot\"]\n",
    "max_lengths = [1, 2]\n",
    "pspec = pygsti.processors.QubitProcessorSpec(\n",
    "        num_qubits, gates, geometry=\"line\", nonstd_gate_unitaries={(): num_qubits, \"Gi\": np.eye((2**num_qubits))},\n",
    "        availability={\"Gi\": [tuple(i for i in range(num_qubits))]},\n",
    "    )\n",
    "mdl_target = pygsti.models.create_crosstalk_free_model(pspec)\n",
    "paulidicts = idt.determine_paulidicts(mdl_target)\n",
    "idle_experiments = idt.make_idle_tomography_list(\n",
    "        num_qubits, max_lengths, paulidicts, maxweight=1\n",
    "    )"
   ]
  },
  {
   "cell_type": "code",
   "execution_count": null,
   "metadata": {},
   "outputs": [
    {
     "name": "stderr",
     "output_type": "stream",
     "text": [
      "C:\\Users\\jkskolf\\pyGSTi\\pygsti\\circuits\\circuit.py:816: UserWarning: Editable circuit is being converted to read-only mode in order to hash it.  You should call circuit.done_editing() beforehand.\n",
      "  _warnings.warn((\"Editable circuit is being converted to read-only\"\n"
     ]
    },
    {
     "data": {
      "text/plain": [
       "<pygsti.data.dataset.DataSet at 0x198a89ab040>"
      ]
     },
     "execution_count": 117,
     "metadata": {},
     "output_type": "execute_result"
    }
   ],
   "source": [
    "mdl_datagen = pygsti.models.create_crosstalk_free_model(\n",
    "pspec, lindblad_error_coeffs={\"Gi\": term_dict},lindblad_parameterization=\"GLND\")\n",
    "updated_ckt_list = []\n",
    "from pygsti.baseobjs import Label\n",
    "for ckt in idle_experiments:\n",
    "    new_ckt = ckt.copy(editable=True)\n",
    "    for i, lbl in enumerate(ckt):\n",
    "        if lbl == Label(()):\n",
    "            # new_ckt[i] = [Label((\"Gi\", i)) for i in range(n_qubits)]\n",
    "            new_ckt[i] = Label(\"Gi\", tuple(i for i in range(num_qubits)))\n",
    "            # new_ckt[i] = Label((\"Gi\", 0))\n",
    "    updated_ckt_list.append(new_ckt)\n",
    "\n",
    "# Error models! Random with right CP constraints from Taxonomy paper\n",
    "ds = pygsti.data.simulate_data(\n",
    "    mdl_datagen, updated_ckt_list, 10000000, seed=8675309, sample_error=\"none\"\n",
    ")\n",
    "ds"
   ]
  },
  {
   "cell_type": "code",
   "execution_count": null,
   "metadata": {},
   "outputs": [],
   "source": [
    "from idttools import allerrors, all_full_length_observables, alloutcomes\n",
    "import collections as _collections\n",
    "from pygsti.circuits.circuit import Circuit as _Circuit\n",
    "def report_observed_rates(nqubits,\n",
    "    dataset,\n",
    "    max_lengths,\n",
    "    pauli_basis_dicts,\n",
    "    maxweight=2,\n",
    "    idle_string=((),),):\n",
    "    all_fidpairs = dict(enumerate(idt.idle_tomography_fidpairs(nqubits)))\n",
    "    # print(all_fidpairs)\n",
    "    if nqubits == 1:  # special case where line-labels may be ('*',)\n",
    "        if len(dataset) > 0:\n",
    "            first_circuit = list(dataset.keys())[0]\n",
    "            line_labels = first_circuit.line_labels\n",
    "        else:\n",
    "            line_labels = (0,)\n",
    "        GiStr = _Circuit(idle_string, line_labels=line_labels)\n",
    "    else:\n",
    "        GiStr = _Circuit(idle_string, num_lines=nqubits)\n",
    "    obs_infos = dict()\n",
    "    errors = allerrors(nqubits, maxweight)\n",
    "    fit_order = 1\n",
    "    observed_error_rates = {}\n",
    "    obs_error_rates_by_exp = {}\n",
    "    whatever = {}\n",
    "    for ifp, pauli_fidpair in all_fidpairs.items():\n",
    "        all_observables = all_full_length_observables(\n",
    "            pauli_fidpair[1], nqubits\n",
    "        )\n",
    "        all_outcomes = idt.idttools.allobservables(pauli_fidpair[1], maxweight)\n",
    "        infos_for_this_fidpair = _collections.OrderedDict()\n",
    "        for j, out in enumerate(all_outcomes):\n",
    "            info = idt.compute_observed_err_rate(\n",
    "                dataset,\n",
    "                pauli_fidpair,\n",
    "                pauli_basis_dicts,\n",
    "                GiStr,\n",
    "                out,\n",
    "                max_lengths,\n",
    "                fit_order,\n",
    "            )\n",
    "\n",
    "            #info[\"jacobian row\"] = full_jacobian[ifp]\n",
    "            infos_for_this_fidpair[out] = info\n",
    "            # ic(infos_for_this_fidpair)\n",
    "            \n",
    "            obs_infos[ifp] = infos_for_this_fidpair\n",
    "            observed_error_rates[ifp] = [\n",
    "                info[\"rate\"] for info in infos_for_this_fidpair.values()\n",
    "            ]\n",
    "            obs_error_rates_by_exp[str(pauli_fidpair[0]).replace(\"+\",\"\"), str(pauli_fidpair[1]).replace(\"+\",\"\"), str(out).replace(\"+\",\"\").replace(\"I\",\"_\")] = [\n",
    "                info[\"rate\"] for info in infos_for_this_fidpair.values()\n",
    "            ][-1]\n",
    "            # obs_err_rates = np.concatenate([np.array([\n",
    "            #                 observed_error_rates[i]\n",
    "            #                 for i in range(len(all_fidpairs))\n",
    "            #                 ]\n",
    "            #             )\n",
    "            #         ]\n",
    "            #     )\n",
    "        whatever[pauli_fidpair] = 1\n",
    "    return observed_error_rates, obs_error_rates_by_exp"
   ]
  },
  {
   "cell_type": "code",
   "execution_count": null,
   "metadata": {},
   "outputs": [],
   "source": [
    "idl_string = \"Gi:\"+\":\".join((str(i) for i in range(num_qubits)))\n",
    "observed_error_rates, obs_error_rates_by_exp = report_observed_rates(num_qubits, ds, max_lengths, paulidicts, idle_string=idl_string)"
   ]
  },
  {
   "cell_type": "code",
   "execution_count": null,
   "metadata": {},
   "outputs": [
    {
     "data": {
      "text/plain": [
       "{0: [-5.1730544255886464e-17],\n",
       " 1: [0.0],\n",
       " 2: [0.0],\n",
       " 3: [0.0],\n",
       " 4: [-0.00019994002864204022],\n",
       " 5: [0.0],\n",
       " 6: [0.0],\n",
       " 7: [0.0],\n",
       " 8: [-0.00019994002864204022]}"
      ]
     },
     "execution_count": 120,
     "metadata": {},
     "output_type": "execute_result"
    }
   ],
   "source": [
    "observed_error_rates"
   ]
  },
  {
   "cell_type": "code",
   "execution_count": null,
   "metadata": {},
   "outputs": [
    {
     "data": {
      "text/plain": [
       "{('X', 'X', ' X'): -5.1730544255886464e-17,\n",
       " ('X', 'Y', ' Y'): 0.0,\n",
       " ('X', 'Z', ' Z'): 0.0,\n",
       " ('Y', 'X', ' X'): 0.0,\n",
       " ('Y', 'Y', ' Y'): -0.00019994002864204022,\n",
       " ('Y', 'Z', ' Z'): 0.0,\n",
       " ('Z', 'X', ' X'): 0.0,\n",
       " ('Z', 'Y', ' Y'): 0.0,\n",
       " ('Z', 'Z', ' Z'): -0.00019994002864204022}"
      ]
     },
     "execution_count": 121,
     "metadata": {},
     "output_type": "execute_result"
    }
   ],
   "source": [
    "obs_error_rates_by_exp"
   ]
  },
  {
   "cell_type": "markdown",
   "metadata": {},
   "source": [
    "{('X', 'X', ' X'): -5.1730544255886464e-17,\n",
    " ('X', 'Y', ' Y'): 0.0,\n",
    " ('X', 'Z', ' Z'): 0.0,\n",
    " ('Y', 'X', ' X'): 0.0,\n",
    " ('Y', 'Y', ' Y'): -0.00019994002864204022,\n",
    " ('Y', 'Z', ' Z'): 0.0,\n",
    " ('Z', 'X', ' X'): 0.0,\n",
    " ('Z', 'Y', ' Y'): 0.0,\n",
    " ('Z', 'Z', ' Z'): -0.00019994002864204022}"
   ]
  },
  {
   "cell_type": "code",
   "execution_count": null,
   "metadata": {},
   "outputs": [],
   "source": [
    "obs_rats = [v for v in obs_error_rates_by_exp.values()]"
   ]
  },
  {
   "cell_type": "code",
   "execution_count": null,
   "metadata": {},
   "outputs": [],
   "source": [
    "j = df.to_numpy()"
   ]
  },
  {
   "cell_type": "markdown",
   "metadata": {},
   "source": [
    "sanity check: jacobian constructed is full rank"
   ]
  },
  {
   "cell_type": "code",
   "execution_count": null,
   "metadata": {},
   "outputs": [],
   "source": [
    "jinv = np.linalg.pinv(j)"
   ]
  },
  {
   "cell_type": "code",
   "execution_count": null,
   "metadata": {},
   "outputs": [],
   "source": [
    "intrins_errs = jinv @ obs_rats"
   ]
  },
  {
   "cell_type": "markdown",
   "metadata": {},
   "source": [
    "# Supposed intrinsic error rates (wrong)"
   ]
  },
  {
   "cell_type": "code",
   "execution_count": null,
   "metadata": {},
   "outputs": [
    {
     "data": {
      "text/plain": [
       "{'H,+X': -1.3448205832742842e-20,\n",
       " 'H,+Y': -2.2215558737998726e-05,\n",
       " 'H,+Z': 2.221555873799872e-05,\n",
       " 'S,+X': 6.479537965250704e-05,\n",
       " 'S,+Y': 9.256482807510254e-06,\n",
       " 'S,+Z': 9.256482807510238e-06,\n",
       " 'C,+X,+Y': 3.7025931230041086e-06,\n",
       " 'C,+X,+Z': 3.7025931230041014e-06,\n",
       " 'C,+Y,+Z': 2.591815186100283e-05,\n",
       " 'A,+X,+Y': 1.2959075930501393e-05,\n",
       " 'A,+X,+Z': -1.2959075930501391e-05,\n",
       " 'A,+Y,+Z': -9.256482807497321e-06}"
      ]
     },
     "execution_count": 126,
     "metadata": {},
     "output_type": "execute_result"
    }
   ],
   "source": [
    "dict(zip(df.columns,intrins_errs))"
   ]
  }
 ],
 "metadata": {
  "kernelspec": {
   "display_name": "qcvv",
   "language": "python",
   "name": "python3"
  },
  "language_info": {
   "codemirror_mode": {
    "name": "ipython",
    "version": 3
   },
   "file_extension": ".py",
   "mimetype": "text/x-python",
   "name": "python",
   "nbconvert_exporter": "python",
   "pygments_lexer": "ipython3",
   "version": "3.10.9"
  }
 },
 "nbformat": 4,
 "nbformat_minor": 2
}
